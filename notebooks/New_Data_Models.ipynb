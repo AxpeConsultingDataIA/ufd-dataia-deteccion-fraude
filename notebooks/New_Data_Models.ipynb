{
 "cells": [
  {
   "cell_type": "markdown",
   "id": "0aedaa61",
   "metadata": {},
   "source": [
    "# 1. Set up"
   ]
  },
  {
   "cell_type": "code",
   "execution_count": 1,
   "id": "b0f79b10",
   "metadata": {},
   "outputs": [],
   "source": [
    "# !pip install neo4j\n",
    "# !pip install torch\n",
    "# !pip install torch_geometric"
   ]
  },
  {
   "cell_type": "markdown",
   "id": "394c6d0c",
   "metadata": {},
   "source": [
    "# 2. Import necessary libraries"
   ]
  },
  {
   "cell_type": "code",
   "execution_count": 2,
   "id": "4eca282e",
   "metadata": {},
   "outputs": [],
   "source": [
    "import pandas as pd"
   ]
  },
  {
   "cell_type": "markdown",
   "id": "20026a68",
   "metadata": {},
   "source": [
    "# 3. Define global variables"
   ]
  },
  {
   "cell_type": "code",
   "execution_count": 3,
   "id": "090a8dfd",
   "metadata": {},
   "outputs": [],
   "source": [
    "NEO4J_URI = \"neo4j://localhost:7687\"\n",
    "NEO4J_USERNAME = \"neo4j\"\n",
    "NEO4J_PASSWORD = \"password\""
   ]
  },
  {
   "cell_type": "markdown",
   "id": "c7f8552a",
   "metadata": {},
   "source": [
    "# 4. Leer tablas y extraer 1000 contadores"
   ]
  },
  {
   "cell_type": "code",
   "execution_count": 4,
   "id": "8e7223cf",
   "metadata": {},
   "outputs": [
    {
     "name": "stderr",
     "output_type": "stream",
     "text": [
      "<>:1: SyntaxWarning: invalid escape sequence '\\d'\n",
      "<>:1: SyntaxWarning: invalid escape sequence '\\d'\n",
      "C:\\Users\\GAZARAGOZAG-local\\AppData\\Local\\Temp\\ipykernel_20616\\2957043775.py:1: SyntaxWarning: invalid escape sequence '\\d'\n",
      "  contadores = pd.read_csv('..\\data\\inputs\\datos_contador.csv')\n"
     ]
    }
   ],
   "source": [
    "contadores = pd.read_csv('..\\data\\inputs\\datos_contador.csv')"
   ]
  },
  {
   "cell_type": "code",
   "execution_count": 5,
   "id": "f7ae407b",
   "metadata": {},
   "outputs": [],
   "source": [
    "cups_deseados = list(contadores[\"cups_sgc\"].unique()[:1000])"
   ]
  },
  {
   "cell_type": "code",
   "execution_count": 6,
   "id": "9390cdf8",
   "metadata": {},
   "outputs": [
    {
     "name": "stderr",
     "output_type": "stream",
     "text": [
      "<>:1: SyntaxWarning: invalid escape sequence '\\d'\n",
      "<>:2: SyntaxWarning: invalid escape sequence '\\d'\n",
      "<>:3: SyntaxWarning: invalid escape sequence '\\d'\n",
      "<>:1: SyntaxWarning: invalid escape sequence '\\d'\n",
      "<>:2: SyntaxWarning: invalid escape sequence '\\d'\n",
      "<>:3: SyntaxWarning: invalid escape sequence '\\d'\n",
      "C:\\Users\\GAZARAGOZAG-local\\AppData\\Local\\Temp\\ipykernel_20616\\3617022618.py:1: SyntaxWarning: invalid escape sequence '\\d'\n",
      "  eventos = pd.read_csv('..\\data\\inputs\\datos_eventos_enero_a_julio_2025.csv')\n",
      "C:\\Users\\GAZARAGOZAG-local\\AppData\\Local\\Temp\\ipykernel_20616\\3617022618.py:2: SyntaxWarning: invalid escape sequence '\\d'\n",
      "  expedientes = pd.read_csv('..\\data\\inputs\\expedientes.csv')\n",
      "C:\\Users\\GAZARAGOZAG-local\\AppData\\Local\\Temp\\ipykernel_20616\\3617022618.py:3: SyntaxWarning: invalid escape sequence '\\d'\n",
      "  metricas = pd.read_csv('..\\data\\inputs\\metricas.csv')\n"
     ]
    }
   ],
   "source": [
    "eventos = pd.read_csv('..\\data\\inputs\\datos_eventos_enero_a_julio_2025.csv')\n",
    "expedientes = pd.read_csv('..\\data\\inputs\\expedientes.csv')\n",
    "metricas = pd.read_csv('..\\data\\inputs\\metricas.csv')"
   ]
  },
  {
   "cell_type": "code",
   "execution_count": 7,
   "id": "755a0c2b",
   "metadata": {},
   "outputs": [
    {
     "name": "stderr",
     "output_type": "stream",
     "text": [
      "<>:2: SyntaxWarning: invalid escape sequence '\\d'\n",
      "<>:4: SyntaxWarning: invalid escape sequence '\\d'\n",
      "<>:6: SyntaxWarning: invalid escape sequence '\\d'\n",
      "<>:2: SyntaxWarning: invalid escape sequence '\\d'\n",
      "<>:4: SyntaxWarning: invalid escape sequence '\\d'\n",
      "<>:6: SyntaxWarning: invalid escape sequence '\\d'\n",
      "C:\\Users\\GAZARAGOZAG-local\\AppData\\Local\\Temp\\ipykernel_20616\\3157822467.py:2: SyntaxWarning: invalid escape sequence '\\d'\n",
      "  contadores_deseados.to_csv('..\\data\\outputs\\contadores_deseados.csv', index=False)\n",
      "C:\\Users\\GAZARAGOZAG-local\\AppData\\Local\\Temp\\ipykernel_20616\\3157822467.py:4: SyntaxWarning: invalid escape sequence '\\d'\n",
      "  expedientes_deseados.to_csv('..\\data\\outputs\\expedientes_deseados.csv', index=False)\n",
      "C:\\Users\\GAZARAGOZAG-local\\AppData\\Local\\Temp\\ipykernel_20616\\3157822467.py:6: SyntaxWarning: invalid escape sequence '\\d'\n",
      "  metricas_deseadas.to_csv('..\\data\\outputs\\metricas_deseadas.csv', index=False)\n"
     ]
    }
   ],
   "source": [
    "contadores_deseados = contadores[contadores[\"cups_sgc\"].isin(cups_deseados)]\n",
    "contadores_deseados.to_csv('..\\data\\outputs\\contadores_deseados.csv', index=False)\n",
    "expedientes_deseados = expedientes[expedientes[\"cups_sgc\"].isin(cups_deseados)]\n",
    "expedientes_deseados.to_csv('..\\data\\outputs\\expedientes_deseados.csv', index=False)\n",
    "metricas_deseadas = metricas[metricas[\"cups_sgc\"].isin(cups_deseados)]\n",
    "metricas_deseadas.to_csv('..\\data\\outputs\\metricas_deseadas.csv', index=False)"
   ]
  },
  {
   "cell_type": "code",
   "execution_count": 8,
   "id": "f4b27288",
   "metadata": {},
   "outputs": [
    {
     "name": "stderr",
     "output_type": "stream",
     "text": [
      "<>:2: SyntaxWarning: invalid escape sequence '\\d'\n",
      "<>:2: SyntaxWarning: invalid escape sequence '\\d'\n",
      "C:\\Users\\GAZARAGOZAG-local\\AppData\\Local\\Temp\\ipykernel_20616\\2872723482.py:2: SyntaxWarning: invalid escape sequence '\\d'\n",
      "  eventos_deseados.to_csv('..\\data\\outputs\\eventos_deseados.csv', index=False)\n"
     ]
    }
   ],
   "source": [
    "eventos_deseados = eventos[eventos[\"cups_sgc\"].isin(cups_deseados)]\n",
    "eventos_deseados.to_csv('..\\data\\outputs\\eventos_deseados.csv', index=False)"
   ]
  },
  {
   "cell_type": "code",
   "execution_count": 9,
   "id": "d67a30a4",
   "metadata": {},
   "outputs": [
    {
     "name": "stdout",
     "output_type": "stream",
     "text": [
      "1000\n",
      "32\n",
      "852\n",
      "145993\n"
     ]
    }
   ],
   "source": [
    "print(len(contadores_deseados))\n",
    "print(len(expedientes_deseados))\n",
    "print(len(metricas_deseadas))\n",
    "print(len(eventos_deseados))"
   ]
  }
 ],
 "metadata": {
  "kernelspec": {
   "display_name": ".venv (3.13.5)",
   "language": "python",
   "name": "python3"
  },
  "language_info": {
   "codemirror_mode": {
    "name": "ipython",
    "version": 3
   },
   "file_extension": ".py",
   "mimetype": "text/x-python",
   "name": "python",
   "nbconvert_exporter": "python",
   "pygments_lexer": "ipython3",
   "version": "3.13.7"
  }
 },
 "nbformat": 4,
 "nbformat_minor": 5
}
